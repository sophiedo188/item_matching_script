{
 "cells": [
  {
   "cell_type": "code",
   "execution_count": 2,
   "id": "ae17e2b2-46a5-4b27-83cb-f1917a3b60a6",
   "metadata": {},
   "outputs": [
    {
     "name": "stderr",
     "output_type": "stream",
     "text": [
      "C:\\Users\\dos\\AppData\\Local\\Temp\\ipykernel_6996\\2293468751.py:17: SettingWithCopyWarning: \n",
      "A value is trying to be set on a copy of a slice from a DataFrame.\n",
      "Try using .loc[row_indexer,col_indexer] = value instead\n",
      "\n",
      "See the caveats in the documentation: https://pandas.pydata.org/pandas-docs/stable/user_guide/indexing.html#returning-a-view-versus-a-copy\n",
      "  OEM_input.at[index, 'item_master_description'] = matched_description\n"
     ]
    }
   ],
   "source": [
    "import pandas as pd\n",
    "# Replace 'your_file.csv' with the path to your CSV file\n",
    "input = pd.read_excel('testing.xlsx')\n",
    "item_master = pd.read_csv('item master list.csv', encoding='ISO-8859-1')\n",
    "\n",
    "#Convert columns into string type:\n",
    "input['OEM'] = input['OEM'].astype(str)\n",
    "item_master['Item Description _________________________'] = item_master['Item Description _________________________'].astype(str)\n",
    "\n",
    "#Separate the input to 2 streams: 1 where there is an OEM, 2 when there is no OEM\n",
    "null_OEM_input=input[input['OEM']=='nan']\n",
    "OEM_input=input[~(input['OEM']=='nan')]\n",
    "\n",
    "#For the database with OEM try to match with item master using the OEM number \n",
    "for index, row in OEM_input.iterrows():\n",
    "    oem_number = row['OEM']\n",
    "    \n",
    "    # Check each description in df_y for the presence of the OEM number\n",
    "    matched_description = \"\"\n",
    "    for desc in item_master['Item Description _________________________']:\n",
    "        if oem_number in desc:\n",
    "            matched_description = desc\n",
    "            break  # Stop after finding the first match\n",
    "    \n",
    "    # Update the new column in df_x with the matched description\n",
    "    OEM_input.at[index, 'item_master_description'] = matched_description\n",
    "\n",
    "## After matching by the OEM number-> separate the output to the one found matches and the one did not find matches. Combine non-matching with null_OEM_input > Then use this database to match with item master by description\n",
    "matches_OEM=OEM_input[~(OEM_input['item_master_description']=='')]\n",
    "non_matches_OEM=OEM_input[OEM_input['item_master_description']=='']\n",
    "\n",
    "#Databases that gonna be matched by using description columns\n",
    "description_input= pd.concat([non_matches_OEM, null_OEM_input], axis=0, ignore_index=True)\n",
    "\n",
    "item_master['Item Description _________________________'] = item_master['Item Description _________________________'].astype(str)\n",
    "description_input['DESCRIPTION'] = description_input['DESCRIPTION'].astype(str)\n",
    "\n",
    "#Try to match description by using fuzzy wuzzy\n",
    "import difflib\n",
    "description_input['item_master_description'] = description_input['DESCRIPTION'].apply(lambda x: difflib.get_close_matches(x, item_master[\"Item Description _________________________\"], cutoff = 0.9))\n",
    "output= pd.concat([matches_OEM, description_input], axis=0, ignore_index=True)\n",
    "item_master_database=item_master[['Item_Num', 'Item Description _________________________']]\n",
    "output['item_master_description'] = output['item_master_description'].astype(str)\n",
    "result = pd.merge(output, item_master_database, left_on='item_master_description', right_on='Item Description _________________________',how='left')\n",
    "import pandas as pd\n",
    "\n",
    "# Drop the column in place\n",
    "result.drop('Item Description _________________________', axis=1, inplace=True)\n",
    "\n",
    "# Drop duplicates in place\n",
    "result.drop_duplicates(inplace=True)\n",
    "\n",
    "# Write to Excel\n",
    "result.to_excel('output.xlsx', index=False)    "
   ]
  },
  {
   "cell_type": "code",
   "execution_count": 17,
   "id": "691c06e8-a4f4-4306-b08d-840aa589435b",
   "metadata": {},
   "outputs": [],
   "source": []
  },
  {
   "cell_type": "code",
   "execution_count": 72,
   "id": "147f6b69-26fe-438a-98be-766c4ee0a5a6",
   "metadata": {
    "scrolled": true
   },
   "outputs": [],
   "source": []
  },
  {
   "cell_type": "code",
   "execution_count": 57,
   "id": "ee2b3090-5a37-451f-b561-bb712cc4e23d",
   "metadata": {},
   "outputs": [],
   "source": []
  },
  {
   "cell_type": "code",
   "execution_count": null,
   "id": "90d9c398-3a1b-4be4-9a01-4f224bba8159",
   "metadata": {},
   "outputs": [],
   "source": []
  },
  {
   "cell_type": "code",
   "execution_count": null,
   "id": "cb102cce-d7c6-4063-b75e-74c489fd93fd",
   "metadata": {},
   "outputs": [],
   "source": []
  }
 ],
 "metadata": {
  "kernelspec": {
   "display_name": "Python 3 (ipykernel)",
   "language": "python",
   "name": "python3"
  },
  "language_info": {
   "codemirror_mode": {
    "name": "ipython",
    "version": 3
   },
   "file_extension": ".py",
   "mimetype": "text/x-python",
   "name": "python",
   "nbconvert_exporter": "python",
   "pygments_lexer": "ipython3",
   "version": "3.12.4"
  }
 },
 "nbformat": 4,
 "nbformat_minor": 5
}
